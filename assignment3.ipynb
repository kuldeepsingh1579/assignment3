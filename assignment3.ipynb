{
 "cells": [
  {
   "cell_type": "markdown",
   "id": "fa508ea0-ee8f-47af-b1bd-05c4eaa9ec14",
   "metadata": {},
   "source": [
    "Question No.1"
   ]
  },
  {
   "cell_type": "code",
   "execution_count": 2,
   "id": "d7c31eeb-17aa-4f06-94ac-87d6b9c4ab97",
   "metadata": {},
   "outputs": [],
   "source": [
    "my_list=[('Sachin Tendulkar', 34357), ('Ricky Ponting', 27483), ('Jack Kallis', 25534), ('Virat Kohli', 24936)]"
   ]
  },
  {
   "cell_type": "code",
   "execution_count": 5,
   "id": "7b234424-08ba-421d-b4ac-6cd2cc459b0f",
   "metadata": {},
   "outputs": [
    {
     "data": {
      "text/plain": [
       "[('Virat Kohli', 24936),\n",
       " ('Jack Kallis', 25534),\n",
       " ('Ricky Ponting', 27483),\n",
       " ('Sachin Tendulkar', 34357)]"
      ]
     },
     "execution_count": 5,
     "metadata": {},
     "output_type": "execute_result"
    }
   ],
   "source": [
    "sorted_list = sorted(my_list, key=lambda x: x[1], reverse=False)\n",
    "sorted_list"
   ]
  },
  {
   "cell_type": "markdown",
   "id": "ecc393fa-45c8-48a7-89f5-3e388931a602",
   "metadata": {},
   "source": [
    "Question NO.2"
   ]
  },
  {
   "cell_type": "code",
   "execution_count": 6,
   "id": "ffaf0f6f-40cf-4b1d-a38a-a17dc67c642e",
   "metadata": {},
   "outputs": [],
   "source": [
    "l=[1, 2, 3, 4, 5, 6, 7, 8, 9, 10]"
   ]
  },
  {
   "cell_type": "code",
   "execution_count": 10,
   "id": "d60681b4-e4a2-4b61-a5b3-db8f6b70c2ee",
   "metadata": {},
   "outputs": [
    {
     "data": {
      "text/plain": [
       "(1, 4, 9, 16, 25, 36, 49, 64, 81, 100)"
      ]
     },
     "execution_count": 10,
     "metadata": {},
     "output_type": "execute_result"
    }
   ],
   "source": [
    "tuple(map(lambda x: x**2,l))"
   ]
  },
  {
   "cell_type": "markdown",
   "id": "9c22b014-1e1f-4599-9c25-55702ccd2838",
   "metadata": {},
   "source": [
    "Question No.4"
   ]
  },
  {
   "cell_type": "code",
   "execution_count": 20,
   "id": "a32117f1-a471-492b-a5e1-c1ea75071beb",
   "metadata": {},
   "outputs": [],
   "source": [
    "l1=list(range(1,26))"
   ]
  },
  {
   "cell_type": "code",
   "execution_count": 21,
   "id": "5b1e0b08-7455-4a75-982c-36a02d881215",
   "metadata": {},
   "outputs": [
    {
     "data": {
      "text/plain": [
       "15511210043330985984000000"
      ]
     },
     "execution_count": 21,
     "metadata": {},
     "output_type": "execute_result"
    }
   ],
   "source": [
    "from functools import reduce\n",
    "\n",
    "reduce (lambda x,y: x*y,l1)"
   ]
  },
  {
   "cell_type": "markdown",
   "id": "78badfdf-c57b-4401-9241-65ef4b14ba10",
   "metadata": {},
   "source": [
    "Question No.5"
   ]
  },
  {
   "cell_type": "code",
   "execution_count": 23,
   "id": "4bbdf907-3e54-473a-8d0a-f0e852657a8a",
   "metadata": {},
   "outputs": [],
   "source": [
    "l=[2, 3, 6, 9, 27, 60, 90, 120, 55, 46]"
   ]
  },
  {
   "cell_type": "code",
   "execution_count": 26,
   "id": "d581abab-a1b4-48aa-aa86-c8142fce00d9",
   "metadata": {},
   "outputs": [
    {
     "data": {
      "text/plain": [
       "[6, 60, 90, 120]"
      ]
     },
     "execution_count": 26,
     "metadata": {},
     "output_type": "execute_result"
    }
   ],
   "source": [
    "list(filter(lambda x: x%2==0 and x%3==0 ,l))"
   ]
  },
  {
   "cell_type": "markdown",
   "id": "2715664d-86ad-493f-84b8-4b7f14fcb36e",
   "metadata": {},
   "source": [
    "Question NO.3"
   ]
  },
  {
   "cell_type": "code",
   "execution_count": 27,
   "id": "be189ff8-29f8-453e-b608-9c40c43ff9df",
   "metadata": {},
   "outputs": [],
   "source": [
    "l=[1, 2, 3, 4, 5, 6, 7, 8, 9, 10]"
   ]
  },
  {
   "cell_type": "code",
   "execution_count": 29,
   "id": "3ce270ef-104a-41c7-afc9-a2d2faa7c111",
   "metadata": {},
   "outputs": [],
   "source": [
    "p=tuple(map(lambda x: str(x), l))"
   ]
  },
  {
   "cell_type": "code",
   "execution_count": 31,
   "id": "fecfeb95-1578-40bc-954c-a76c02ebe198",
   "metadata": {},
   "outputs": [
    {
     "data": {
      "text/plain": [
       "('1', '2', '3', '4', '5', '6', '7', '8', '9', '10')"
      ]
     },
     "execution_count": 31,
     "metadata": {},
     "output_type": "execute_result"
    }
   ],
   "source": [
    "p"
   ]
  },
  {
   "cell_type": "markdown",
   "id": "7b858cfe-6a63-4c8a-acc8-6affc27d4a43",
   "metadata": {},
   "source": [
    "Question No.6"
   ]
  },
  {
   "cell_type": "code",
   "execution_count": 33,
   "id": "e540fdba-395b-4054-8328-1e80ee3d5b31",
   "metadata": {},
   "outputs": [],
   "source": [
    "l=['python', 'php', 'aba', 'radar', 'level']"
   ]
  },
  {
   "cell_type": "code",
   "execution_count": 36,
   "id": "632ad230-6910-4e15-9027-ff5bdf9ae4eb",
   "metadata": {},
   "outputs": [],
   "source": [
    "palindrome=list(filter(lambda x: x==x[::-1] ,l))"
   ]
  },
  {
   "cell_type": "code",
   "execution_count": 37,
   "id": "f7597e66-424a-47bc-b329-007d8d75a83a",
   "metadata": {},
   "outputs": [
    {
     "data": {
      "text/plain": [
       "['php', 'aba', 'radar', 'level']"
      ]
     },
     "execution_count": 37,
     "metadata": {},
     "output_type": "execute_result"
    }
   ],
   "source": [
    "palindrome"
   ]
  },
  {
   "cell_type": "code",
   "execution_count": null,
   "id": "ce8f4647-76d9-4201-8f6b-5ec2a5177004",
   "metadata": {},
   "outputs": [],
   "source": []
  }
 ],
 "metadata": {
  "kernelspec": {
   "display_name": "Python 3 (ipykernel)",
   "language": "python",
   "name": "python3"
  },
  "language_info": {
   "codemirror_mode": {
    "name": "ipython",
    "version": 3
   },
   "file_extension": ".py",
   "mimetype": "text/x-python",
   "name": "python",
   "nbconvert_exporter": "python",
   "pygments_lexer": "ipython3",
   "version": "3.10.8"
  }
 },
 "nbformat": 4,
 "nbformat_minor": 5
}
